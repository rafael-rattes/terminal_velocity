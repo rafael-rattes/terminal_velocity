{
 "cells": [
  {
   "cell_type": "markdown",
   "id": "3a3ba1d8",
   "metadata": {},
   "source": [
    "# Velocidade terminal"
   ]
  },
  {
   "cell_type": "markdown",
   "id": "1105628a",
   "metadata": {},
   "source": [
    "**Fonte:** Operações Unitárias em Sistemas Particulados e Fluidomecânicos por Marco Aurélio Cremasco"
   ]
  },
  {
   "cell_type": "code",
   "execution_count": 1,
   "id": "bd46e9e9",
   "metadata": {},
   "outputs": [],
   "source": [
    "def aviso(string):\n",
    "    import warnings\n",
    "    warnings.filterwarnings(string)\n",
    "    pass"
   ]
  },
  {
   "cell_type": "markdown",
   "id": "5ccd7788",
   "metadata": {},
   "source": [
    "# Método iterativo"
   ]
  },
  {
   "cell_type": "markdown",
   "id": "530f9ef4",
   "metadata": {},
   "source": [
    "Função: **rey_p**\n",
    "\\begin{align}\n",
    "Re_p &= \\frac{\\rho d_p v_t}{\\mu}\n",
    "\\end{align}\n",
    "Função: **vel_term**\n",
    "\\begin{align}\n",
    "v_t &= \\sqrt{\\frac{4}{3} \\frac{d_p (\\rho_s - \\rho) g}{\\rho C_D}}\n",
    "\\end{align}"
   ]
  },
  {
   "cell_type": "code",
   "execution_count": 2,
   "id": "57c49dba",
   "metadata": {},
   "outputs": [],
   "source": [
    "def vel_term(arrasto, diametro, densidade_solido, densidade_fluido=997, gravidade=9.81) -> float:\n",
    "    return ( 4/3 * diametro*(densidade_solido - densidade_fluido)*gravidade / (densidade_fluido*arrasto) )**(1/2)\n",
    "\n",
    "def rey_p(velocidade_terminal, diametro, viscosidade_fluido=0.00089008, densidade_fluido=997) -> float:\n",
    "    return densidade_fluido*diametro*velocidade_terminal/viscosidade_fluido\n",
    "\n",
    "arrasto = {'stokes': lambda reynolds: 24/reynolds,\n",
    "           'allen': lambda reynolds: 18.5/reynolds**0.6, \n",
    "           'klyachko': lambda reynolds: 24/reynolds + 4*reynolds**(-1/3),\n",
    "           'langmuir': lambda reynolds: 24/reynolds * (1 + 0.197*reynolds**0.63 + 0.0026*reynolds**1.39),\n",
    "           'newton': lambda reynolds: 0.44,\n",
    "           'turbulento': lambda reynolds: 0.20}\n",
    "\n",
    "def velocidade_terminal(y0, diametro, densidade_solido, viscosidade_fluido=0.00089008, densidade_fluido=997, gravidade=9.81, metodo='todos', tolerancia=1.49012e-08) -> dict:\n",
    "    #METODOS: 'stokes', 'allen', 'klyachko', 'langmuir', 'newton', 'turbulento', 'todos'\n",
    "    from scipy.optimize import fsolve\n",
    "    from numpy import array\n",
    "    def func(y):\n",
    "        re = rey_p(y, diametro, viscosidade_fluido=viscosidade_fluido, densidade_fluido=densidade_fluido)\n",
    "        cd = arrasto[auxiliar](re)\n",
    "        vt = vel_term(cd, diametro, densidade_solido, densidade_fluido, gravidade)\n",
    "        return y - vt\n",
    "    \n",
    "    if metodo == 'todos':\n",
    "        resultados = {}\n",
    "        for auxiliar in arrasto:\n",
    "            if auxiliar not in ('newton', 'turbulento'):\n",
    "                resp = fsolve(func, y0, xtol=tolerancia)\n",
    "                vt = resp[0]\n",
    "                re = rey_p(vt, diametro, viscosidade_fluido=viscosidade_fluido, densidade_fluido=densidade_fluido)\n",
    "            else:\n",
    "                cd = arrasto[auxiliar](0)\n",
    "                vt = vel_term(cd, diametro, densidade_solido, densidade_fluido, gravidade)\n",
    "                re = rey_p(vt, diametro, viscosidade_fluido=viscosidade_fluido, densidade_fluido=densidade_fluido)\n",
    "            resultados[auxiliar] = array([vt, re])\n",
    " \n",
    "    elif metodo not in ('newton', 'turbulento'):\n",
    "        auxiliar = metodo\n",
    "        resp = fsolve(func, y0, xtol=tolerancia)\n",
    "        vt = resp[0]\n",
    "        re = rey_p(vt, diametro, viscosidade_fluido=viscosidade_fluido, densidade_fluido=densidade_fluido)\n",
    "        resultados = {metodo: array([vt, re])}\n",
    "    else:\n",
    "        cd = arrasto[metodo](0)\n",
    "        vt = vel_term(cd, diametro, densidade_solido, densidade_fluido, gravidade)\n",
    "        re = rey_p(vt, diametro, viscosidade_fluido=viscosidade_fluido, densidade_fluido=densidade_fluido)\n",
    "        resultados = {metodo: array([vt, re])}\n",
    "        \n",
    "    return resultados\n",
    "    \n",
    "def diametro(y0, vel_terminal, densidade_solido, viscosidade_fluido=0.00089008, densidade_fluido=997, gravidade=9.81, metodo='todos', tolerancia=1.49012e-08) -> dict:\n",
    "    #METODOS: 'stokes', 'allen', 'klyachko', 'langmuir', 'newton', 'turbulento', 'todos'\n",
    "    from scipy.optimize import fsolve\n",
    "    from numpy import array\n",
    "    def func(y):\n",
    "        re = rey_p(vel_terminal, y, viscosidade_fluido=viscosidade_fluido, densidade_fluido=densidade_fluido)\n",
    "        cd = arrasto[auxiliar](re)\n",
    "        vt = vel_term(cd, y, densidade_solido, densidade_fluido, gravidade)\n",
    "        return vel_terminal - vt\n",
    "\n",
    "    if metodo == 'todos':\n",
    "        resultados = {}\n",
    "        for auxiliar in arrasto:\n",
    "            if auxiliar not in ('newton', 'turbulento'):\n",
    "                resp = fsolve(func, y0, xtol=tolerancia)\n",
    "                di = resp[0]\n",
    "                re = rey_p(vel_terminal, di, viscosidade_fluido=viscosidade_fluido, densidade_fluido=densidade_fluido)\n",
    "            else:\n",
    "                resp = fsolve(func, y0, xtol=tolerancia)\n",
    "                di = resp[0]\n",
    "                re = rey_p(vel_terminal, di, viscosidade_fluido=viscosidade_fluido, densidade_fluido=densidade_fluido)\n",
    "            resultados[auxiliar] = array([di, re])\n",
    "\n",
    "    elif metodo not in ('newton', 'turbulento'):\n",
    "        auxiliar = metodo\n",
    "        resp = fsolve(func, y0, xtol=tolerancia)\n",
    "        di = resp[0]\n",
    "        re = rey_p(vel_terminal, di, viscosidade_fluido=viscosidade_fluido, densidade_fluido=densidade_fluido)\n",
    "        resultados = {metodo: array([di, re])}\n",
    "    else:\n",
    "        resp = fsolve(func, y0, xtol=tolerancia)\n",
    "        di = resp[0]\n",
    "        re = rey_p(vel_terminal, di, viscosidade_fluido=viscosidade_fluido, densidade_fluido=densidade_fluido)\n",
    "        resultados = {metodo: array([di, re])}\n",
    "        \n",
    "    return resultados"
   ]
  },
  {
   "cell_type": "markdown",
   "id": "2c15b062",
   "metadata": {},
   "source": [
    "# Método exato de Stokes\n",
    "**Função exata de Stokes**\n",
    "\\begin{align}\n",
    "v_t &= \\frac{d_p^2 (\\rho_s - \\rho) g}{18 \\mu}\n",
    "\\end{align}"
   ]
  },
  {
   "cell_type": "code",
   "execution_count": 3,
   "id": "3b23472d",
   "metadata": {},
   "outputs": [],
   "source": [
    "def stokes(diametro, vel_terminal, densidade_solido, viscosidade_fluido=0.00089008, densidade_fluido=997, gravidade=9.81) -> list:\n",
    "    #ESSA FUNÇÃO SÓ PERMITE UMA VÁRIAVEL DE CADA VEZ, CASO SEJAM COLOCADOS DOIS X A FUNÇÃO IRÁ FALHAR (isso é intencional)\n",
    "    from sympy import symbols, solveset\n",
    "    variaveis = [diametro, vel_terminal, densidade_solido, viscosidade_fluido, densidade_fluido, gravidade]\n",
    "              # [0, 1, 2, 3, 4, 5] ordem dos valores da lista de variaveis\n",
    "    x = symbols('x')\n",
    "    \n",
    "    cont = 0\n",
    "    for i, j in enumerate(variaveis): #procura qual é a variável e qual a sua posição na lista de variáveis\n",
    "        if j == 'x': variaveis[i], cont = x, cont+1\n",
    "    \n",
    "    if cont == 1: #checa se existe apenas uma variável\n",
    "        function =  variaveis[1] - variaveis[0]**2 * (variaveis[2] - variaveis[4]) * variaveis[5]/(18 * variaveis[3])\n",
    "\n",
    "        return list(solveset(function, x))\n",
    "    else: #ter mais ou menos de uma variáveis\n",
    "        print('Equação sem variável ou com mais de uma.')\n",
    "        pass"
   ]
  },
  {
   "cell_type": "code",
   "execution_count": 4,
   "id": "fd7601c2",
   "metadata": {},
   "outputs": [],
   "source": [
    "aviso('default')\n",
    "#aviso('ignore')"
   ]
  },
  {
   "cell_type": "markdown",
   "id": "bb74bd8c",
   "metadata": {},
   "source": [
    "## Calculando a solução exata em Stokes para usar de comparativo com as outras funções\n",
    "A solução de stokes pode indicar um bom chute inicial para as outras\n",
    "\n",
    "obs.: Usando os valores da questão 2"
   ]
  },
  {
   "cell_type": "code",
   "execution_count": 5,
   "id": "047e8248",
   "metadata": {
    "scrolled": true
   },
   "outputs": [
    {
     "data": {
      "text/plain": [
       "[-0.000100228074890817, 0.000100228074890817]"
      ]
     },
     "execution_count": 5,
     "metadata": {},
     "output_type": "execute_result"
    }
   ],
   "source": [
    "stokes('x', 0.04, 7500)"
   ]
  },
  {
   "cell_type": "code",
   "execution_count": 6,
   "id": "d435b2fd",
   "metadata": {},
   "outputs": [
    {
     "data": {
      "text/latex": [
       "$\\displaystyle 4.49071502184724$"
      ],
      "text/plain": [
       "4.49071502184724"
      ]
     },
     "execution_count": 6,
     "metadata": {},
     "output_type": "execute_result"
    }
   ],
   "source": [
    "rey_p(0.04, stokes('x', 0.04, 7500)[1])"
   ]
  },
  {
   "cell_type": "code",
   "execution_count": 7,
   "id": "497a7049",
   "metadata": {},
   "outputs": [
    {
     "data": {
      "text/latex": [
       "$\\displaystyle 5.34436050456118$"
      ],
      "text/plain": [
       "5.34436050456118"
      ]
     },
     "execution_count": 7,
     "metadata": {},
     "output_type": "execute_result"
    }
   ],
   "source": [
    "arrasto['stokes'](rey_p(0.04, stokes('x', 0.04, 7500)[1]))"
   ]
  },
  {
   "cell_type": "code",
   "execution_count": 8,
   "id": "37309f3a",
   "metadata": {},
   "outputs": [
    {
     "data": {
      "text/latex": [
       "$\\displaystyle 0.04$"
      ],
      "text/plain": [
       "0.0400000000000000"
      ]
     },
     "execution_count": 8,
     "metadata": {},
     "output_type": "execute_result"
    }
   ],
   "source": [
    "vel_term(arrasto['stokes'](rey_p(0.04, stokes('x', 0.04, 7500)[1])),\n",
    "         stokes('x', 0.04, 7500)[1], 7500)"
   ]
  },
  {
   "cell_type": "markdown",
   "id": "3e4ba84f",
   "metadata": {},
   "source": [
    "## Testando a função 'velocidade_terminal'\n",
    "Critérios:\n",
    " 1. Chute inicial\n",
    " 2. Tolerância\n",
    " 3. Métodos"
   ]
  },
  {
   "cell_type": "code",
   "execution_count": 9,
   "id": "b3127b9f",
   "metadata": {},
   "outputs": [
    {
     "data": {
      "text/plain": [
       "(0.495948285547366, 388.866515912622)"
      ]
     },
     "execution_count": 9,
     "metadata": {},
     "output_type": "execute_result"
    }
   ],
   "source": [
    "stokes(7e-4, 'x', 2650)[0], rey_p(stokes(7e-4, 'x', 2650)[0], 7e-4) #metodo exato de stokes"
   ]
  },
  {
   "cell_type": "code",
   "execution_count": 10,
   "id": "a12b5bdf",
   "metadata": {},
   "outputs": [
    {
     "data": {
      "text/plain": [
       "{'stokes': array([  0.49594829, 388.86651591]),\n",
       " 'allen': array([ 0.10870159, 85.23148289]),\n",
       " 'klyachko': array([ 0.11432161, 89.63806638]),\n",
       " 'langmuir': array([ 0.09728476, 76.27970115]),\n",
       " 'newton': array([  0.18574426, 145.63962671]),\n",
       " 'turbulento': array([  0.27550326, 216.01847585])}"
      ]
     },
     "execution_count": 10,
     "metadata": {},
     "output_type": "execute_result"
    }
   ],
   "source": [
    "velocidade_terminal(1, 7e-4, 2650, tolerancia=1e-9) #chute inicial válido"
   ]
  },
  {
   "cell_type": "code",
   "execution_count": 11,
   "id": "7c8ef42a",
   "metadata": {},
   "outputs": [
    {
     "data": {
      "text/plain": [
       "array([-1.11022302462516e-16, -5.68434188608080e-14], dtype=object)"
      ]
     },
     "execution_count": 11,
     "metadata": {},
     "output_type": "execute_result"
    }
   ],
   "source": [
    "#DIFERENÇA DA SOLUÇÃO EXATA E DA NUMÉRICA\n",
    "from numpy import array\n",
    "array([stokes(7e-4, 'x', 2650)[0], rey_p(stokes(7e-4, 'x', 2650)[0], 7e-4)]) -\\\n",
    "    array(velocidade_terminal(1, 7e-4, 2650, metodo='stokes', tolerancia=1e-9)['stokes'])"
   ]
  },
  {
   "cell_type": "code",
   "execution_count": 12,
   "id": "99e3eebc",
   "metadata": {},
   "outputs": [
    {
     "name": "stderr",
     "output_type": "stream",
     "text": [
      "C:\\Users\\rafae\\AppData\\Local\\Temp/ipykernel_19464/937068166.py:2: RuntimeWarning: invalid value encountered in sqrt\n",
      "  return ( 4/3 * diametro*(densidade_solido - densidade_fluido)*gravidade / (densidade_fluido*arrasto) )**(1/2)\n",
      "C:\\Users\\rafae\\Anaconda3\\lib\\site-packages\\scipy\\optimize\\minpack.py:175: RuntimeWarning: The iteration is not making good progress, as measured by the \n",
      "  improvement from the last ten iterations.\n",
      "  warnings.warn(msg, RuntimeWarning)\n",
      "C:\\Users\\rafae\\AppData\\Local\\Temp/ipykernel_19464/937068166.py:8: RuntimeWarning: invalid value encountered in power\n",
      "  'allen': lambda reynolds: 18.5/reynolds**0.6,\n",
      "C:\\Users\\rafae\\AppData\\Local\\Temp/ipykernel_19464/937068166.py:9: RuntimeWarning: invalid value encountered in power\n",
      "  'klyachko': lambda reynolds: 24/reynolds + 4*reynolds**(-1/3),\n",
      "C:\\Users\\rafae\\AppData\\Local\\Temp/ipykernel_19464/937068166.py:10: RuntimeWarning: invalid value encountered in power\n",
      "  'langmuir': lambda reynolds: 24/reynolds * (1 + 0.197*reynolds**0.63 + 0.0026*reynolds**1.39),\n"
     ]
    },
    {
     "data": {
      "text/plain": [
       "{'stokes': array([0.0001    , 0.07840868]),\n",
       " 'allen': array([0.0001    , 0.07840868]),\n",
       " 'klyachko': array([0.0001    , 0.07840868]),\n",
       " 'langmuir': array([0.0001    , 0.07840868]),\n",
       " 'newton': array([  0.18574426, 145.63962671]),\n",
       " 'turbulento': array([  0.27550326, 216.01847585])}"
      ]
     },
     "execution_count": 12,
     "metadata": {},
     "output_type": "execute_result"
    }
   ],
   "source": [
    "velocidade_terminal(0.0001, 7e-4, 2650, tolerancia=1e-8) #chute inicial baixo demais"
   ]
  },
  {
   "cell_type": "code",
   "execution_count": 13,
   "id": "381f33fb",
   "metadata": {},
   "outputs": [
    {
     "data": {
      "text/plain": [
       "{'stokes': array([  0.49594829, 388.86651594]),\n",
       " 'allen': array([ 0.10870159, 85.23148504]),\n",
       " 'klyachko': array([ 0.11432161, 89.63806672]),\n",
       " 'langmuir': array([ 0.09728476, 76.27970116]),\n",
       " 'newton': array([  0.18574426, 145.63962671]),\n",
       " 'turbulento': array([  0.27550326, 216.01847585])}"
      ]
     },
     "execution_count": 13,
     "metadata": {},
     "output_type": "execute_result"
    }
   ],
   "source": [
    "velocidade_terminal(1, 7e-4, 2650, tolerancia=1e-4) #tolerância ainda válida"
   ]
  },
  {
   "cell_type": "code",
   "execution_count": 14,
   "id": "765b5a64",
   "metadata": {},
   "outputs": [
    {
     "data": {
      "text/plain": [
       "{'stokes': array([  0.50259876, 394.08106728]),\n",
       " 'allen': array([ 0.11727179, 91.95126664]),\n",
       " 'klyachko': array([ 0.12013175, 94.1937231 ]),\n",
       " 'langmuir': array([ 0.09972099, 78.18991623]),\n",
       " 'newton': array([  0.18574426, 145.63962671]),\n",
       " 'turbulento': array([  0.27550326, 216.01847585])}"
      ]
     },
     "execution_count": 14,
     "metadata": {},
     "output_type": "execute_result"
    }
   ],
   "source": [
    "velocidade_terminal(1, 7e-4, 2650, tolerancia=1e-0) #tolerância alterou significativamente os valores"
   ]
  },
  {
   "cell_type": "code",
   "execution_count": 15,
   "id": "c6511584",
   "metadata": {},
   "outputs": [
    {
     "data": {
      "text/plain": [
       "{'allen': array([ 0.10870159, 85.23148289])}"
      ]
     },
     "execution_count": 15,
     "metadata": {},
     "output_type": "execute_result"
    }
   ],
   "source": [
    "velocidade_terminal(100, 7e-4, 2650, metodo='allen', tolerancia=1e-7) #chute inicial válido"
   ]
  },
  {
   "cell_type": "code",
   "execution_count": 16,
   "id": "b5fcd274",
   "metadata": {},
   "outputs": [
    {
     "data": {
      "text/plain": [
       "{'klyachko': array([ 0.11432161, 89.63806638])}"
      ]
     },
     "execution_count": 16,
     "metadata": {},
     "output_type": "execute_result"
    }
   ],
   "source": [
    "velocidade_terminal(1, 7e-4, 2650, metodo='klyachko', tolerancia=1e-7) #chute inicial válido"
   ]
  },
  {
   "cell_type": "code",
   "execution_count": 17,
   "id": "5533cbef",
   "metadata": {},
   "outputs": [
    {
     "data": {
      "text/plain": [
       "{'klyachko': array([ 0.11432161, 89.63806638])}"
      ]
     },
     "execution_count": 17,
     "metadata": {},
     "output_type": "execute_result"
    }
   ],
   "source": [
    "velocidade_terminal(3, 7e-4, 2650, metodo='klyachko', tolerancia=1e-7) #chute inicial válido"
   ]
  },
  {
   "cell_type": "code",
   "execution_count": 18,
   "id": "c84fbf72",
   "metadata": {},
   "outputs": [
    {
     "data": {
      "text/plain": [
       "{'langmuir': array([ 0.09728476, 76.27970115])}"
      ]
     },
     "execution_count": 18,
     "metadata": {},
     "output_type": "execute_result"
    }
   ],
   "source": [
    "velocidade_terminal(0.025, 7e-4, 2650, metodo='langmuir', tolerancia=1e-7) #chute inicial válido"
   ]
  },
  {
   "cell_type": "code",
   "execution_count": 19,
   "id": "9a46a8bf",
   "metadata": {},
   "outputs": [
    {
     "name": "stderr",
     "output_type": "stream",
     "text": [
      "C:\\Users\\rafae\\AppData\\Local\\Temp/ipykernel_19464/937068166.py:10: RuntimeWarning: invalid value encountered in power\n",
      "  'langmuir': lambda reynolds: 24/reynolds * (1 + 0.197*reynolds**0.63 + 0.0026*reynolds**1.39),\n"
     ]
    },
    {
     "data": {
      "text/plain": [
       "{'langmuir': array([ 0.02      , 15.68173647])}"
      ]
     },
     "execution_count": 19,
     "metadata": {},
     "output_type": "execute_result"
    }
   ],
   "source": [
    "velocidade_terminal(0.020, 7e-4, 2650, metodo='langmuir', tolerancia=1e-7) #chute inicial baixo demais"
   ]
  },
  {
   "cell_type": "code",
   "execution_count": 20,
   "id": "fa3f6cd6",
   "metadata": {},
   "outputs": [
    {
     "name": "stdout",
     "output_type": "stream",
     "text": [
      "Para um diâmetro de 700 micrometros, a velocidade terminal é de 9.73 cm/s\n"
     ]
    }
   ],
   "source": [
    "resolucao = velocidade_terminal(1., 7e-4, 2650, metodo='langmuir', tolerancia=1e-9)\n",
    "v_terminal = resolucao['langmuir'][0]\n",
    "print(f'Para um diâmetro de 700 micrometros, a velocidade terminal é de {round(v_terminal*100, 2)} cm/s')"
   ]
  },
  {
   "cell_type": "markdown",
   "id": "16076f17",
   "metadata": {},
   "source": [
    "## Testando a função 'diametro'\n",
    "Critérios:\n",
    " 1. Chute inicial\n",
    " 2. Tolerância\n",
    " 3. Métodos"
   ]
  },
  {
   "cell_type": "code",
   "execution_count": 21,
   "id": "615e5e99",
   "metadata": {},
   "outputs": [
    {
     "data": {
      "text/plain": [
       "{'stokes': array([1.00228075e-04, 4.49071502e+00])}"
      ]
     },
     "execution_count": 21,
     "metadata": {},
     "output_type": "execute_result"
    }
   ],
   "source": [
    "diametro(0.1, 0.04, 7500, metodo='stokes', tolerancia=1e-9) #raiz positiva (chute positivo)"
   ]
  },
  {
   "cell_type": "code",
   "execution_count": 22,
   "id": "0212a109",
   "metadata": {},
   "outputs": [
    {
     "data": {
      "text/plain": [
       "{'stokes': array([-1.00228075e-04, -4.49071502e+00])}"
      ]
     },
     "execution_count": 22,
     "metadata": {},
     "output_type": "execute_result"
    }
   ],
   "source": [
    "diametro(-0.1, 0.04, 7500, metodo='stokes', tolerancia=1e-9) #raiz negativa (chute negativo)"
   ]
  },
  {
   "cell_type": "code",
   "execution_count": 23,
   "id": "036f3b6d",
   "metadata": {},
   "outputs": [
    {
     "data": {
      "text/plain": [
       "{'stokes': array([1.00228075e-04, 4.49071502e+00]),\n",
       " 'allen': array([1.23999110e-04, 5.55577532e+00]),\n",
       " 'klyachko': array([1.23643029e-04, 5.53982115e+00]),\n",
       " 'langmuir': array([1.27574235e-04, 5.71595868e+00]),\n",
       " 'newton': array([8.25175489e-06, 3.69719559e-01]),\n",
       " 'turbulento': array([3.75079768e-06, 1.68054345e-01])}"
      ]
     },
     "execution_count": 23,
     "metadata": {},
     "output_type": "execute_result"
    }
   ],
   "source": [
    "diametro(1e-6, 0.04, 7500, metodo='todos', tolerancia=1e-9)"
   ]
  },
  {
   "cell_type": "code",
   "execution_count": 24,
   "id": "25514f6c",
   "metadata": {},
   "outputs": [
    {
     "name": "stderr",
     "output_type": "stream",
     "text": [
      "C:\\Users\\rafae\\AppData\\Local\\Temp/ipykernel_19464/937068166.py:8: RuntimeWarning: invalid value encountered in power\n",
      "  'allen': lambda reynolds: 18.5/reynolds**0.6,\n",
      "C:\\Users\\rafae\\AppData\\Local\\Temp/ipykernel_19464/937068166.py:9: RuntimeWarning: invalid value encountered in power\n",
      "  'klyachko': lambda reynolds: 24/reynolds + 4*reynolds**(-1/3),\n",
      "C:\\Users\\rafae\\AppData\\Local\\Temp/ipykernel_19464/937068166.py:10: RuntimeWarning: invalid value encountered in power\n",
      "  'langmuir': lambda reynolds: 24/reynolds * (1 + 0.197*reynolds**0.63 + 0.0026*reynolds**1.39),\n",
      "C:\\Users\\rafae\\AppData\\Local\\Temp/ipykernel_19464/937068166.py:2: RuntimeWarning: invalid value encountered in sqrt\n",
      "  return ( 4/3 * diametro*(densidade_solido - densidade_fluido)*gravidade / (densidade_fluido*arrasto) )**(1/2)\n"
     ]
    },
    {
     "data": {
      "text/plain": [
       "{'stokes': array([1.00228075e-04, 4.49071502e+00]),\n",
       " 'allen': array([1.00000000e-03, 4.48049614e+01]),\n",
       " 'klyachko': array([1.00000000e-03, 4.48049614e+01]),\n",
       " 'langmuir': array([1.00000000e-03, 4.48049614e+01]),\n",
       " 'newton': array([1.00000000e-03, 4.48049614e+01]),\n",
       " 'turbulento': array([1.00000000e-03, 4.48049614e+01])}"
      ]
     },
     "execution_count": 24,
     "metadata": {},
     "output_type": "execute_result"
    }
   ],
   "source": [
    "diametro(0.001, 0.04, 7500, metodo='todos', tolerancia=1e-9) #chute inicial muito alto"
   ]
  },
  {
   "cell_type": "code",
   "execution_count": 25,
   "id": "23ad365e",
   "metadata": {},
   "outputs": [
    {
     "name": "stdout",
     "output_type": "stream",
     "text": [
      "Para uma velocidade terminal de 4 cm/s, o diâmetro deve ser de 127.57 micrometros\n"
     ]
    }
   ],
   "source": [
    "resolucao = diametro(1e-6, 0.04, 7500, metodo='langmuir', tolerancia=1e-9)\n",
    "diam = resolucao['langmuir'][0]\n",
    "print(f'Para uma velocidade terminal de 4 cm/s, o diâmetro deve ser de {round(diam*1e+6, 2)} micrometros')"
   ]
  },
  {
   "cell_type": "markdown",
   "id": "2ea94ffc",
   "metadata": {},
   "source": [
    "# Método de Massarani\n",
    "(COELHO e MASSARANI, 1996)"
   ]
  },
  {
   "cell_type": "markdown",
   "id": "5716c842",
   "metadata": {},
   "source": [
    "**Função:** massarani_d\n",
    "\\begin{align}\n",
    "d_i &= Re \\frac{\\mu}{\\rho v_t}\n",
    "\\end{align}\n",
    "\n",
    "Usa as variáveis n, Cd_Re, k1, k2, re2\n",
    "\n",
    "O primeiro retorno é o valor do diâmetro e o segundo é o número de reynolds\n",
    "\n",
    "Sobre *esf_perf*:\n",
    "1. True: n = 0.88\n",
    "2. False: n = 1.3\n",
    "\n",
    "**Função:** massarani_v\n",
    "\\begin{align}\n",
    "v_t &= Re \\frac{\\mu}{\\rho d_i}\n",
    "\\end{align}\n",
    "\n",
    "Usa as variáveis n, CdRe2, k1, k2, re1\n",
    "\n",
    "O primeiro retorno é o valor da velocidade terminal e o segundo é o número de reynolds\n",
    "\n",
    "Sobre *esf_perf*:\n",
    "1. True: n = 0.95\n",
    "2. False: n = 1.2\n",
    "\n",
    "**Observações:**\n",
    "\n",
    "Para os casos em que a particula não é uma esfera perfeita, limita-se a esfericidades entre **]0.65, 1]** e reynolds menores ou iguais à **5e+4**\n",
    "\n",
    "O argumento *esf_perf* significa esfera perfeita e deve vim acoplado ao termo *esfericidade* valendo 1, ou então será desconsiderada a informação de particula perfeitamente esférica."
   ]
  },
  {
   "cell_type": "markdown",
   "id": "dd00b64d",
   "metadata": {},
   "source": [
    "**Variável:** CdRe2\n",
    "\\begin{align}\n",
    "C_D Re^2 &= \\frac{4}{3} \\frac{\\rho (\\rho_p - \\rho) b d_p^3}{\\mu^2}\n",
    "\\end{align}\n",
    "\n",
    "**Variável:** Cd_Re\n",
    "\\begin{align}\n",
    "C_D/Re &= \\frac{4}{3} \\frac{(\\rho_p - \\rho) \\mu b}{\\rho^2 v_t^2}\n",
    "\\end{align}\n",
    "\n",
    "**Variável:** k1\n",
    "\\begin{align}\n",
    "K_1 &= 0.843 \\log_{10}(\\phi/0.065)\n",
    "\\end{align}\n",
    "\n",
    "**Variável:** k2\n",
    "\\begin{align}\n",
    "K_2 &= 5.31 - 4.88\\phi\n",
    "\\end{align}"
   ]
  },
  {
   "cell_type": "markdown",
   "id": "572de882",
   "metadata": {},
   "source": [
    "**Variável:** re1\n",
    "\\begin{align}\n",
    "Re &= \\left[ \\left(\\frac{K_1 C_D Re^2}{24} \\right)^{-n} + \\left(\\frac{C_D Re^2}{K_2} \\right)^{-n/2} \\right]^{-1/n}\n",
    "\\end{align}\n",
    "\n",
    "**Variável:** re2\n",
    "\\begin{align}\n",
    "Re &= \\left[ \\left(\\frac{24}{K_1 C_D/Re} \\right)^{n/2} + \\left(\\frac{K_2}{C_D/Re} \\right)^{n} \\right]^{1/n}\n",
    "\\end{align}"
   ]
  },
  {
   "cell_type": "raw",
   "id": "0a762511",
   "metadata": {},
   "source": [
    "#VARIÁVEIS\n",
    "CdRe2 = 4/3 * (densidade_fluido*(densidade_solido - densidade_fluido)*campo_externo*diametro**3)/viscosidade_fluido**2\n",
    "Cd_Re = 4/3 * ((densidade_solido - densidade_fluido)*campo_externo*viscosidade_fluido)/(densidade_fluido**2 * vel_terminal**2) \n",
    "\n",
    "k1 = 0.843*log10(esfericidade/0.065)\n",
    "k2 = 5.31 - 4.88*esfericidade\n",
    "\n",
    "re1 = ( (k1*CdRe2/24)**-1.2 + (CdRe2/k2)**-0.6 )**(-1/1.2)\n",
    "re2 = ( (24/(k1*Cd_Re))**0.65 + (k2/Cd_Re)**1.3 )**(1/1.2)\n",
    "\n",
    "vt = re1 * (viscosidade_fluido/(densidade_fluido*diametro))\n",
    "di = re2 * (densidade_fluido*velocidade_terminal/viscosidade_fluido)"
   ]
  },
  {
   "cell_type": "code",
   "execution_count": 1,
   "id": "0f378163",
   "metadata": {},
   "outputs": [],
   "source": [
    "def massarani_d(vel_terminal, densidade_solido, viscosidade_fluido=0.00089008, densidade_fluido=997, campo_externo=9.81, esfericidade=1., esf_perf=False):\n",
    "    from numpy import log10, array\n",
    "    n = 0.88 if (esfericidade == 1 and esf_perf == True) else 1.3\n",
    "    Cd_Re = 4/3 * ((densidade_solido - densidade_fluido)*campo_externo*viscosidade_fluido)/(densidade_fluido**2 * vel_terminal**3) \n",
    "    k1 = 0.843*log10(esfericidade/0.065)\n",
    "    k2 = 5.31 - 4.88*esfericidade\n",
    "    re2 = ( (24/(k1*Cd_Re))**(n/2) + (k2/Cd_Re)**(n) )**(1/n)\n",
    "    di = re2 * (viscosidade_fluido/(densidade_fluido*vel_terminal))\n",
    "    return array([di, re2])\n",
    "    \n",
    "def massarani_v(diametro, densidade_solido, viscosidade_fluido=0.00089008, densidade_fluido=997, campo_externo=9.81, esfericidade=1., esf_perf=False):\n",
    "    from numpy import log10, array\n",
    "    n = 0.95 if (esfericidade == 1 and esf_perf == True) else 1.2\n",
    "    CdRe2 = 4/3 * (densidade_fluido*(densidade_solido - densidade_fluido)*campo_externo*diametro**3)/viscosidade_fluido**2\n",
    "    k1 = 0.843*log10(esfericidade/0.065)\n",
    "    k2 = 5.31 - 4.88*esfericidade\n",
    "    re1 = ( (k1*CdRe2/24)**-n + (CdRe2/k2)**-(n/2) )**(-1/n)\n",
    "    vt = re1 * (viscosidade_fluido/(densidade_fluido*diametro))\n",
    "    return array([vt, re1])"
   ]
  },
  {
   "cell_type": "markdown",
   "id": "dd5bdeb7",
   "metadata": {},
   "source": [
    "## Testando para a velocidade terminal \n",
    "**Função:** massarani_v"
   ]
  },
  {
   "cell_type": "markdown",
   "id": "8061fb6e",
   "metadata": {},
   "source": [
    "**Problema exemplo do livro do Cremasco**"
   ]
  },
  {
   "cell_type": "code",
   "execution_count": 2,
   "id": "45afcb03",
   "metadata": {},
   "outputs": [
    {
     "data": {
      "text/plain": [
       "array([ 0.04209656, 12.67968825])"
      ]
     },
     "execution_count": 2,
     "metadata": {},
     "output_type": "execute_result"
    }
   ],
   "source": [
    "massarani_v(250e-6, 2430, densidade_fluido=995.7, viscosidade_fluido=0.83e-6*995.7, esfericidade=1)"
   ]
  },
  {
   "cell_type": "code",
   "execution_count": 3,
   "id": "99cb3f4b",
   "metadata": {},
   "outputs": [
    {
     "data": {
      "text/plain": [
       "array([ 0.03651311, 10.99792362])"
      ]
     },
     "execution_count": 3,
     "metadata": {},
     "output_type": "execute_result"
    }
   ],
   "source": [
    "massarani_v(250e-6, 2430, densidade_fluido=995.7, viscosidade_fluido=0.83e-6*995.7, esfericidade=1, esf_perf=True)"
   ]
  },
  {
   "cell_type": "code",
   "execution_count": 39,
   "id": "350711be",
   "metadata": {},
   "outputs": [
    {
     "name": "stdout",
     "output_type": "stream",
     "text": [
      "Para um diâmetro de 250 micrometros e densidade de 2430 kg/m3, em água, a velocidade terminal é de 3.65 cm/s\n"
     ]
    }
   ],
   "source": [
    "vtm, rey = massarani_v(250e-6, 2430, densidade_fluido=995.7, viscosidade_fluido=0.83e-6*995.7, esfericidade=1, esf_perf=True)\n",
    "\n",
    "print(f'Para um diâmetro de 250 micrometros e densidade de 2430 kg/m3, em água, a velocidade terminal é de {round(vtm*100, 2)} cm/s')"
   ]
  },
  {
   "cell_type": "markdown",
   "id": "57bb571c",
   "metadata": {},
   "source": [
    "**Problema de velocidade terminal anterior**"
   ]
  },
  {
   "cell_type": "code",
   "execution_count": 29,
   "id": "c7b7d82b",
   "metadata": {},
   "outputs": [
    {
     "data": {
      "text/plain": [
       "array([  0.14986523, 117.50735125])"
      ]
     },
     "execution_count": 29,
     "metadata": {},
     "output_type": "execute_result"
    }
   ],
   "source": [
    "massarani_v(7e-4, 2650, esfericidade=1) #METODO DE MASSARANI"
   ]
  },
  {
   "cell_type": "code",
   "execution_count": 30,
   "id": "8c90c49e",
   "metadata": {},
   "outputs": [
    {
     "data": {
      "text/plain": [
       "{'stokes': array([  0.49594829, 388.86651591]),\n",
       " 'allen': array([ 0.10870159, 85.23148289]),\n",
       " 'klyachko': array([ 0.11432161, 89.63806638]),\n",
       " 'langmuir': array([ 0.09728476, 76.27970115]),\n",
       " 'newton': array([  0.18574426, 145.63962671]),\n",
       " 'turbulento': array([  0.27550326, 216.01847585])}"
      ]
     },
     "execution_count": 30,
     "metadata": {},
     "output_type": "execute_result"
    }
   ],
   "source": [
    "velocidade_terminal(1, 7e-4, 2650, tolerancia=1e-9) #METODO ITERATIVO"
   ]
  },
  {
   "cell_type": "code",
   "execution_count": 31,
   "id": "ac74bef5",
   "metadata": {},
   "outputs": [
    {
     "data": {
      "text/plain": [
       "(0.495948285547366, 388.866515912622)"
      ]
     },
     "execution_count": 31,
     "metadata": {},
     "output_type": "execute_result"
    }
   ],
   "source": [
    "stokes(7e-4, 'x', 2650)[0], rey_p(stokes(7e-4, 'x', 2650)[0], 7e-4) #METODO EXATO DE STOKES"
   ]
  },
  {
   "cell_type": "markdown",
   "id": "8e4aee41",
   "metadata": {},
   "source": [
    "## Testando para o diâmetro\n",
    "**Função:** massarani_d"
   ]
  },
  {
   "cell_type": "code",
   "execution_count": 6,
   "id": "c8e712c3",
   "metadata": {},
   "outputs": [
    {
     "name": "stdout",
     "output_type": "stream",
     "text": [
      "Para uma velocidade terminal de 4 cm/s, o diâmetro deve ser de 103.09 micrometros\n"
     ]
    }
   ],
   "source": [
    "diam = massarani_d(0.04, 7500, esfericidade=1)[0] #METODO DE MASSARANI\n",
    "\n",
    "print(f'Para uma velocidade terminal de 4 cm/s, o diâmetro deve ser de {round(diam*1e+6, 2)} micrometros')"
   ]
  },
  {
   "cell_type": "code",
   "execution_count": 7,
   "id": "23b7afa7",
   "metadata": {},
   "outputs": [
    {
     "data": {
      "text/plain": [
       "array([1.12680784e-04, 5.04865817e+00])"
      ]
     },
     "execution_count": 7,
     "metadata": {},
     "output_type": "execute_result"
    }
   ],
   "source": [
    "massarani_d(0.04, 7500, esfericidade=1, esf_perf=True)"
   ]
  },
  {
   "cell_type": "code",
   "execution_count": 68,
   "id": "7cb53c37",
   "metadata": {},
   "outputs": [
    {
     "name": "stdout",
     "output_type": "stream",
     "text": [
      "Para uma velocidade terminal de 4 cm/s e densidade de 7500 kg/m3, em água, o diâmetro é de 763.48 micrometros\n"
     ]
    }
   ],
   "source": [
    "dia, rey = massarani_d(0.04, 7500, esfericidade=1, esf_perf=True)\n",
    "\n",
    "print(f'Para uma velocidade terminal de 4 cm/s e densidade de 7500 kg/m3, em água, o diâmetro é de {round(dia*1e+6, 2)} micrometros')"
   ]
  },
  {
   "cell_type": "code",
   "execution_count": 70,
   "id": "d81a7e6f",
   "metadata": {},
   "outputs": [
    {
     "data": {
      "text/plain": [
       "34.20764687184174"
      ]
     },
     "execution_count": 70,
     "metadata": {},
     "output_type": "execute_result"
    }
   ],
   "source": [
    "rey"
   ]
  },
  {
   "cell_type": "code",
   "execution_count": 71,
   "id": "2ba9c076",
   "metadata": {},
   "outputs": [
    {
     "data": {
      "text/plain": [
       "array([  0.32603548, 278.82266652])"
      ]
     },
     "execution_count": 71,
     "metadata": {},
     "output_type": "execute_result"
    }
   ],
   "source": [
    "massarani_v(dia, 7500, esfericidade=1, esf_perf=True)"
   ]
  },
  {
   "cell_type": "code",
   "execution_count": 72,
   "id": "621a97ab",
   "metadata": {},
   "outputs": [
    {
     "data": {
      "text/plain": [
       "{'stokes': array([   2.32100139, 1984.89989685]),\n",
       " 'allen': array([  0.31930585, 273.06754603]),\n",
       " 'klyachko': array([  0.3001803, 256.7115417]),\n",
       " 'langmuir': array([  0.22511944, 192.52015886]),\n",
       " 'newton': array([  0.38475598, 329.03991718]),\n",
       " 'turbulento': array([  0.57068534, 488.0450672 ])}"
      ]
     },
     "execution_count": 72,
     "metadata": {},
     "output_type": "execute_result"
    }
   ],
   "source": [
    "velocidade_terminal(1, dia, 7500)"
   ]
  },
  {
   "cell_type": "code",
   "execution_count": 34,
   "id": "c7a4f4cb",
   "metadata": {},
   "outputs": [
    {
     "data": {
      "text/plain": [
       "{'stokes': array([1.00228075e-04, 4.49071502e+00]),\n",
       " 'allen': array([1.23999110e-04, 5.55577532e+00]),\n",
       " 'klyachko': array([1.23643029e-04, 5.53982115e+00]),\n",
       " 'langmuir': array([1.27574235e-04, 5.71595868e+00]),\n",
       " 'newton': array([8.25175489e-06, 3.69719559e-01]),\n",
       " 'turbulento': array([3.75079768e-06, 1.68054345e-01])}"
      ]
     },
     "execution_count": 34,
     "metadata": {},
     "output_type": "execute_result"
    }
   ],
   "source": [
    "diametro(1e-6, 0.04, 7500, metodo='todos', tolerancia=1e-9) #METODO ITERATIVO"
   ]
  },
  {
   "cell_type": "code",
   "execution_count": 35,
   "id": "9399d745",
   "metadata": {},
   "outputs": [
    {
     "data": {
      "text/plain": [
       "(0.000100228074890817, 4.49071502184724)"
      ]
     },
     "execution_count": 35,
     "metadata": {},
     "output_type": "execute_result"
    }
   ],
   "source": [
    "stokes('x', 0.04, 7500)[1], rey_p(0.04, stokes('x', 0.04, 7500)[1]) #METODO EXATO DE STOKES"
   ]
  },
  {
   "cell_type": "code",
   "execution_count": 76,
   "id": "9e31a5fc",
   "metadata": {},
   "outputs": [
    {
     "data": {
      "text/plain": [
       "(array([0.04      , 5.33045809]),\n",
       " array([  0.32603548, 278.82266652]),\n",
       " 0.00011897026416611484,\n",
       " 0.0007634789951777556)"
      ]
     },
     "execution_count": 76,
     "metadata": {},
     "output_type": "execute_result"
    }
   ],
   "source": [
    "#teste (fazendo o procedimento inverso para achar o diâmetro)\n",
    "def func(di):\n",
    "    return 0.04 - massarani_v(di, 7500, esf_perf=True)[0]\n",
    "\n",
    "from scipy.optimize import fsolve\n",
    "dia, rey = massarani_d(0.04, 7500, esfericidade=1, esf_perf=True)\n",
    "dia2 = fsolve(func, 1e-7)\n",
    "\n",
    "massarani_v(dia2[0], 7500, esf_perf=True), massarani_v(dia, 7500, esf_perf=True), dia2[0], dia"
   ]
  }
 ],
 "metadata": {
  "kernelspec": {
   "display_name": "Python 3 (ipykernel)",
   "language": "python",
   "name": "python3"
  },
  "language_info": {
   "codemirror_mode": {
    "name": "ipython",
    "version": 3
   },
   "file_extension": ".py",
   "mimetype": "text/x-python",
   "name": "python",
   "nbconvert_exporter": "python",
   "pygments_lexer": "ipython3",
   "version": "3.8.8"
  }
 },
 "nbformat": 4,
 "nbformat_minor": 5
}
